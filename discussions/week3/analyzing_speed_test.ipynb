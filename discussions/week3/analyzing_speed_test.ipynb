{
 "cells": [
  {
   "cell_type": "code",
   "execution_count": 1,
   "id": "98834ba4",
   "metadata": {},
   "outputs": [
    {
     "data": {
      "text/html": [
       "<style>.container { width:100% !important; }</style>"
      ],
      "text/plain": [
       "<IPython.core.display.HTML object>"
      ]
     },
     "metadata": {},
     "output_type": "display_data"
    }
   ],
   "source": [
    "from IPython.display import display, HTML\n",
    "display(HTML(\"<style>.container { width:100% !important; }</style>\"))"
   ]
  },
  {
   "cell_type": "code",
   "execution_count": 2,
   "id": "ae74290d",
   "metadata": {},
   "outputs": [],
   "source": [
    "from scapy.all import *\n",
    "import pandas as pd\n",
    "import numpy as np\n",
    "import binascii\n",
    "import seaborn as sns\n",
    "import matplotlib.pyplot as plt\n",
    "from util.pandas_util import pcap_to_df\n",
    "sns.set(color_codes=True)\n",
    "%matplotlib inline\n",
    "pd.set_option('display.max_rows', None)"
   ]
  },
  {
   "cell_type": "markdown",
   "id": "4a9e0c50",
   "metadata": {},
   "source": [
    "# Analyzing NDT Speedtest"
   ]
  },
  {
   "cell_type": "markdown",
   "id": "43442d73",
   "metadata": {},
   "source": [
    "**Objective:** In this section we will examine an [NDT speedtest](https://speed.measurementlab.net/#/) and empirically analyze the how it works."
   ]
  },
  {
   "cell_type": "code",
   "execution_count": 3,
   "id": "4eb084bf",
   "metadata": {},
   "outputs": [],
   "source": [
    "# read pcaps/ndt_speed_test.pcap using rdpcap, into 'pcap'"
   ]
  },
  {
   "cell_type": "code",
   "execution_count": 1,
   "id": "6de8da25",
   "metadata": {},
   "outputs": [],
   "source": [
    "print(pcap)"
   ]
  },
  {
   "cell_type": "markdown",
   "id": "5ecff4df",
   "metadata": {},
   "source": [
    "### Writing Processed Output to Disk\n"
   ]
  },
  {
   "cell_type": "code",
   "execution_count": 5,
   "id": "afe7b4a6",
   "metadata": {},
   "outputs": [],
   "source": [
    "# Using pcap_to_df, store the dataframe in memory into 'df'\n",
    "\n",
    "# Write the 'df' dataframe to disk by saving it as a csv"
   ]
  },
  {
   "cell_type": "code",
   "execution_count": 6,
   "id": "939e67ef",
   "metadata": {},
   "outputs": [],
   "source": [
    "# Read 'df' from disk"
   ]
  },
  {
   "cell_type": "code",
   "execution_count": 2,
   "id": "79dfce30",
   "metadata": {},
   "outputs": [],
   "source": [
    "print(df.columns.values)"
   ]
  },
  {
   "cell_type": "markdown",
   "id": "4a62a97b",
   "metadata": {},
   "source": [
    "### Understanding the Data"
   ]
  },
  {
   "cell_type": "code",
   "execution_count": 3,
   "id": "19f15e94",
   "metadata": {},
   "outputs": [],
   "source": [
    "# Investigating hosts in dataset\n",
    "\n",
    "# select the src and dst columns from df\n",
    "\n",
    "# concatenate the src and dst ips into a single dataframe and remove duplicates \n"
   ]
  },
  {
   "cell_type": "markdown",
   "id": "ae684d79",
   "metadata": {},
   "source": [
    "We observe traffic on the 192.168.0.0/16 subnet. This is the subnet of the local network. We can label the direction of the traffic accordingly.\n",
    "\n",
    "[Documentation for Series](https://pandas.pydata.org/docs/reference/api/pandas.Series.html)"
   ]
  },
  {
   "cell_type": "code",
   "execution_count": 10,
   "id": "59e32fb4",
   "metadata": {},
   "outputs": [],
   "source": [
    "# Labelling direction of traffic"
   ]
  },
  {
   "cell_type": "code",
   "execution_count": 11,
   "id": "0c39ac8b",
   "metadata": {},
   "outputs": [],
   "source": [
    "# Filter the df for inbound traffic "
   ]
  },
  {
   "cell_type": "code",
   "execution_count": 12,
   "id": "60364efd",
   "metadata": {},
   "outputs": [],
   "source": [
    "# Filter the df for outbound traffic "
   ]
  },
  {
   "cell_type": "markdown",
   "id": "771742ce",
   "metadata": {},
   "source": [
    "### Viewing Flow Stats"
   ]
  },
  {
   "cell_type": "code",
   "execution_count": 4,
   "id": "ee971b7f",
   "metadata": {},
   "outputs": [],
   "source": [
    "# Look at flow stats "
   ]
  },
  {
   "cell_type": "code",
   "execution_count": 14,
   "id": "65dcbaa5",
   "metadata": {},
   "outputs": [],
   "source": [
    "# Combine port number into a single column"
   ]
  },
  {
   "cell_type": "code",
   "execution_count": 15,
   "id": "7f311c69",
   "metadata": {},
   "outputs": [],
   "source": [
    "# Filter the df for inbound and outbound traffic"
   ]
  },
  {
   "cell_type": "code",
   "execution_count": 5,
   "id": "029cccf8",
   "metadata": {},
   "outputs": [],
   "source": [
    "# Look at the proto, src, dst, sport, and dport columns of inbound traffic "
   ]
  },
  {
   "cell_type": "code",
   "execution_count": 6,
   "id": "5649d594",
   "metadata": {},
   "outputs": [],
   "source": [
    "# Group the inbound traffic "
   ]
  },
  {
   "cell_type": "code",
   "execution_count": 7,
   "id": "8fca5f20",
   "metadata": {},
   "outputs": [],
   "source": [
    "# Group inbound traffic, calculate the total length of bytes transferred "
   ]
  },
  {
   "cell_type": "markdown",
   "id": "f1e2a811",
   "metadata": {},
   "source": [
    "4.15.166.11 - level3  \n",
    "151.101.65.195 - fastly  \n",
    "142.250.68.8 - google  \n"
   ]
  },
  {
   "cell_type": "code",
   "execution_count": 8,
   "id": "785a4072",
   "metadata": {},
   "outputs": [],
   "source": [
    "# Do the same for outbound flows "
   ]
  },
  {
   "cell_type": "code",
   "execution_count": 9,
   "id": "fdce48d8",
   "metadata": {},
   "outputs": [],
   "source": [
    "# Unique packet lengths in data"
   ]
  },
  {
   "cell_type": "markdown",
   "id": "bcf29f35",
   "metadata": {},
   "source": [
    "### Zooming in on Interesting Flows"
   ]
  },
  {
   "cell_type": "code",
   "execution_count": 22,
   "id": "65b5894c",
   "metadata": {},
   "outputs": [],
   "source": [
    "# Filter inbound traffic for: \n",
    "# source IP '4.15.166.11'\n",
    "# destination IP '192.168.0.203'\n",
    "# protocol 6 "
   ]
  },
  {
   "cell_type": "code",
   "execution_count": 10,
   "id": "f6e3cf10",
   "metadata": {},
   "outputs": [],
   "source": [
    "# Window time by 1 second"
   ]
  },
  {
   "cell_type": "code",
   "execution_count": 11,
   "id": "657cc9d6",
   "metadata": {},
   "outputs": [],
   "source": [
    "# Sort inbound flow data by window "
   ]
  },
  {
   "cell_type": "code",
   "execution_count": 12,
   "id": "df03fd75",
   "metadata": {},
   "outputs": [],
   "source": [
    "# Filter the inbound flow data for packets with a length of 1500\n",
    "\n",
    "# Group based on the window "
   ]
  },
  {
   "cell_type": "markdown",
   "id": "12f8a6e4",
   "metadata": {},
   "source": [
    "Test is around 10 seconds long"
   ]
  },
  {
   "cell_type": "code",
   "execution_count": 15,
   "id": "403b5ae3",
   "metadata": {},
   "outputs": [],
   "source": [
    "# bytes/sec"
   ]
  },
  {
   "cell_type": "code",
   "execution_count": 14,
   "id": "7b195596",
   "metadata": {},
   "outputs": [],
   "source": [
    "# Mbits/sec"
   ]
  },
  {
   "cell_type": "code",
   "execution_count": 29,
   "id": "e3763153",
   "metadata": {},
   "outputs": [],
   "source": [
    "# Convert bytes to Mbits "
   ]
  },
  {
   "cell_type": "code",
   "execution_count": 13,
   "id": "802b165d",
   "metadata": {},
   "outputs": [],
   "source": [
    "# Create a line plot, with window on the x axis and Mbits on the y axis "
   ]
  }
 ],
 "metadata": {
  "kernelspec": {
   "display_name": "Python 3",
   "language": "python",
   "name": "python3"
  },
  "language_info": {
   "codemirror_mode": {
    "name": "ipython",
    "version": 3
   },
   "file_extension": ".py",
   "mimetype": "text/x-python",
   "name": "python",
   "nbconvert_exporter": "python",
   "pygments_lexer": "ipython3",
   "version": "3.10.12"
  }
 },
 "nbformat": 4,
 "nbformat_minor": 5
}
