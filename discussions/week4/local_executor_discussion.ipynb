{
 "cells": [
  {
   "cell_type": "markdown",
   "id": "52391654-a2b2-4c77-abf5-69bbfd95e0e6",
   "metadata": {},
   "source": [
    "# Local execution\n",
    "Sometimes (often) you want to check how your pipeline is working locally without connecting to the remote netUnicorn instance.\n",
    "\n",
    "Here's the manual way of creating the pipeline and executing it."
   ]
  },
  {
   "cell_type": "markdown",
   "id": "4947b00f-910c-40df-b13d-7681846e5a39",
   "metadata": {},
   "source": [
    "At first, install the netunicorn-executor (which is required for the local executor) and all packages for the lab."
   ]
  },
  {
   "cell_type": "markdown",
   "id": "2f12a1c8-5a2d-4c8c-be4e-370a69d77342",
   "metadata": {},
   "source": [
    "## Preparation"
   ]
  },
  {
   "cell_type": "code",
   "execution_count": 1,
   "id": "b67fc8a4-e68c-4dc1-95e0-e420f7fc0e1b",
   "metadata": {
    "ExecuteTime": {
     "end_time": "2023-12-03T23:46:40.025221348Z",
     "start_time": "2023-12-03T23:46:38.492346305Z"
    },
    "tags": []
   },
   "outputs": [
    {
     "name": "stdout",
     "output_type": "stream",
     "text": [
      "Defaulting to user installation because normal site-packages is not writeable\n",
      "Requirement already satisfied: netunicorn-executor in /home/satyandra/.local/lib/python3.10/site-packages (0.4.2)\n",
      "Requirement already satisfied: nest-asyncio in /home/satyandra/.local/lib/python3.10/site-packages (1.6.0)\n",
      "Requirement already satisfied: requests in /home/satyandra/.local/lib/python3.10/site-packages (2.32.3)\n",
      "Requirement already satisfied: dnspython in /home/satyandra/.local/lib/python3.10/site-packages (2.7.0)\n",
      "Requirement already satisfied: cloudpickle in /home/satyandra/.local/lib/python3.10/site-packages (from netunicorn-executor) (3.1.0)\n",
      "Requirement already satisfied: netunicorn-base<0.5.0,>=0.4.0 in /home/satyandra/.local/lib/python3.10/site-packages (from netunicorn-executor) (0.4.1)\n",
      "Requirement already satisfied: urllib3<3,>=1.21.1 in /usr/lib/python3/dist-packages (from requests) (1.26.5)\n",
      "Requirement already satisfied: charset-normalizer<4,>=2 in /home/satyandra/.local/lib/python3.10/site-packages (from requests) (3.4.0)\n",
      "Requirement already satisfied: idna<4,>=2.5 in /usr/lib/python3/dist-packages (from requests) (3.3)\n",
      "Requirement already satisfied: certifi>=2017.4.17 in /usr/lib/python3/dist-packages (from requests) (2020.6.20)\n",
      "Requirement already satisfied: pydantic>=2.0.0 in /home/satyandra/.local/lib/python3.10/site-packages (from netunicorn-base<0.5.0,>=0.4.0->netunicorn-executor) (2.9.2)\n",
      "Requirement already satisfied: returns>=0.20.0 in /home/satyandra/.local/lib/python3.10/site-packages (from netunicorn-base<0.5.0,>=0.4.0->netunicorn-executor) (0.23.0)\n",
      "Requirement already satisfied: typing-extensions in /home/satyandra/.local/lib/python3.10/site-packages (from netunicorn-base<0.5.0,>=0.4.0->netunicorn-executor) (4.12.2)\n",
      "Requirement already satisfied: networkx in /home/satyandra/.local/lib/python3.10/site-packages (from netunicorn-base<0.5.0,>=0.4.0->netunicorn-executor) (3.4.2)\n",
      "Requirement already satisfied: annotated-types>=0.6.0 in /home/satyandra/.local/lib/python3.10/site-packages (from pydantic>=2.0.0->netunicorn-base<0.5.0,>=0.4.0->netunicorn-executor) (0.7.0)\n",
      "Requirement already satisfied: pydantic-core==2.23.4 in /home/satyandra/.local/lib/python3.10/site-packages (from pydantic>=2.0.0->netunicorn-base<0.5.0,>=0.4.0->netunicorn-executor) (2.23.4)\n",
      "Note: you may need to restart the kernel to use updated packages.\n"
     ]
    }
   ],
   "source": [
    "%pip install -U netunicorn-executor nest-asyncio requests dnspython"
   ]
  },
  {
   "cell_type": "markdown",
   "id": "49324827-24b8-4887-8458-31f577806310",
   "metadata": {},
   "source": [
    "If you do it in the already running asyncio loop (e.g., in Jupyter), you also need to install and import nest_asyncio. This is not required if you run it as a Python script."
   ]
  },
  {
   "cell_type": "code",
   "execution_count": 2,
   "id": "0ff724b6-eef0-4ce2-a6b0-8c711195fc69",
   "metadata": {
    "ExecuteTime": {
     "end_time": "2023-12-03T23:46:41.620250669Z",
     "start_time": "2023-12-03T23:46:41.615420352Z"
    },
    "tags": []
   },
   "outputs": [],
   "source": [
    "import requests\n",
    "import socket\n",
    "import nest_asyncio\n",
    "nest_asyncio.apply()"
   ]
  },
  {
   "cell_type": "markdown",
   "id": "371a693c-73c6-4e88-bef2-8e3adfba682c",
   "metadata": {},
   "source": [
    "Create your pipeline. We'll use a simple one right now to check whether it is working that does nothing except just succeeding."
   ]
  },
  {
   "cell_type": "code",
   "execution_count": 3,
   "id": "785ffebe-ee22-403b-bee0-32a7e4dd56c8",
   "metadata": {
    "ExecuteTime": {
     "end_time": "2023-12-03T23:46:41.777713255Z",
     "start_time": "2023-12-03T23:46:41.621802198Z"
    },
    "tags": []
   },
   "outputs": [],
   "source": [
    "from netunicorn.base import Pipeline, Task, Success, Failure\n",
    "\n",
    "class DummyTask(Task):\n",
    "    def run(self):\n",
    "        return 0\n",
    "\n",
    "pipeline = Pipeline().then(DummyTask()).then(DummyTask())"
   ]
  },
  {
   "cell_type": "markdown",
   "id": "6da181c8af014ab9",
   "metadata": {
    "jupyter": {
     "outputs_hidden": false
    }
   },
   "source": [
    "To get the executor that will run on your computer, you can call the `get_local_executor` function from the `netunicorn.executor` module. It will do all the required steps for you and return the executor."
   ]
  },
  {
   "cell_type": "code",
   "execution_count": 4,
   "id": "82573aceda00c844",
   "metadata": {
    "ExecuteTime": {
     "end_time": "2023-12-03T23:46:41.869160114Z",
     "start_time": "2023-12-03T23:46:41.868478606Z"
    },
    "jupyter": {
     "outputs_hidden": false
    }
   },
   "outputs": [
    {
     "name": "stderr",
     "output_type": "stream",
     "text": [
      "INFO:executor_local:Parsed configuration: Gateway located on fake\n",
      "INFO:executor_local:Current directory: /home/satyandra/Downloads/netunicorn_examples\n"
     ]
    }
   ],
   "source": [
    "from netunicorn.executor import get_local_executor\n",
    "executor = get_local_executor(pipeline)"
   ]
  },
  {
   "cell_type": "markdown",
   "id": "0550d2a7-15d8-4614-91c8-df32e270ff5e",
   "metadata": {},
   "source": [
    "And then, call the executor to start running the pipeline."
   ]
  },
  {
   "cell_type": "code",
   "execution_count": 5,
   "id": "923a3a66-976e-4345-b0d2-0b9194da09c8",
   "metadata": {
    "ExecuteTime": {
     "end_time": "2023-12-03T23:46:43.866001546Z",
     "start_time": "2023-12-03T23:46:41.868793566Z"
    },
    "tags": []
   },
   "outputs": [
    {
     "name": "stderr",
     "output_type": "stream",
     "text": [
      "INFO:executor_local:Execution is finished, start reporting results.\n",
      "INFO:executor_local:Skipping reporting results due to execution graph setting.\n"
     ]
    }
   ],
   "source": [
    "executor()"
   ]
  },
  {
   "cell_type": "markdown",
   "id": "9d381cf2-e294-4cac-b83c-87b04ccf7108",
   "metadata": {},
   "source": [
    "Now you can explore locally create log file and `executor.pipeline_results`."
   ]
  },
  {
   "cell_type": "code",
   "execution_count": 7,
   "id": "42346d78-951e-4476-b3ec-07db451cebdc",
   "metadata": {
    "ExecuteTime": {
     "end_time": "2023-12-03T23:46:43.913371964Z",
     "start_time": "2023-12-03T23:46:43.867805087Z"
    },
    "tags": []
   },
   "outputs": [
    {
     "name": "stdout",
     "output_type": "stream",
     "text": [
      "<Success: defaultdict(<class 'list'>, {'e488bbbd-a097-48f0-9f7b-78c8abb03d19': [<Success: 0>], '34f2f567-206a-4f77-b6bd-aac7bc65e8bb': [<Success: 0>]})>\n"
     ]
    }
   ],
   "source": [
    "print(executor.execution_graph_results)"
   ]
  },
  {
   "cell_type": "markdown",
   "id": "2b7c0c69-0d24-49b3-a119-08415d20cd62",
   "metadata": {},
   "source": [
    "## Tasks and Pipelines\n",
    "\n",
    "As a reminder, the basic API of netunicorn consists of the following things:\n",
    "\n",
    "    Task - minimal and basic building blocks of netUnicorn\n",
    "    Pipeline - ordered collection of Tasks\n",
    "    Node - infrastructure abstraction\n",
    "    Deployment - mapping of a pipeline to a node\n",
    "    Experiment - set of Deployments\n",
    "\n",
    "\n",
    "Here we will exercise in writing different tasks and pipelines to design experiments. Let's start with simple ones."
   ]
  },
  {
   "cell_type": "markdown",
   "id": "100b1866-f9ad-486f-ae8a-46bbe4b02bef",
   "metadata": {},
   "source": [
    "### Task\n",
    "Tasks allow users to modularly express their intents for experiments. For example, \"run the speedtest\" is a Task. Tasks could be simple (start tcpdump) or very complex (watch YouTube for X seconds), users define what level of modularity the Task should implement.\n",
    "\n",
    "Tasks would be later combined into Pipelines (for example, start tcpdump -> watch YouTube -> stop tcpdump).\n",
    "\n",
    "Tasks consist of three parts:\n",
    "\n",
    "- Requirements: bash commands that would be executed during compilation of a Docker image for this task. Most often used to install required programs or dependencies.\n",
    "- \\_\\_init__ method: client-side initialization of the task. Allows users to pass some information to be used later (for example, URL of YouTube video to watch)\n",
    "- run method: executor-side code that would be executed on a corresponding node. Implements actual task intent and can use information provided on the initialization step.\n"
   ]
  },
  {
   "cell_type": "code",
   "execution_count": 26,
   "id": "0f32402f-2d1c-460d-bd0f-ec0518439053",
   "metadata": {},
   "outputs": [],
   "source": [
    "# This is the simplest and minimal example of Task implementation\n",
    "from netunicorn.base import Task\n",
    "\n",
    "class MyFirstTask(Task):\n",
    "    def run(self):\n",
    "        return True"
   ]
  },
  {
   "cell_type": "code",
   "execution_count": 27,
   "id": "c7e7afdf-d278-42fa-9cb3-0f090e7069a4",
   "metadata": {},
   "outputs": [
    {
     "data": {
      "text/plain": [
       "True"
      ]
     },
     "execution_count": 27,
     "metadata": {},
     "output_type": "execute_result"
    }
   ],
   "source": [
    "# You can call the task().run() to execute it locally\n",
    "MyFirstTask().run()"
   ]
  },
  {
   "cell_type": "code",
   "execution_count": 28,
   "id": "d331e8b1-74ea-4efc-9817-8947d46d527c",
   "metadata": {},
   "outputs": [
    {
     "data": {
      "text/plain": [
       "'I know the next word: Meow'"
      ]
     },
     "execution_count": 28,
     "metadata": {},
     "output_type": "execute_result"
    }
   ],
   "source": [
    "# This is a more complex task implementation that uses the initialization\n",
    "class MySecondTask(Task):\n",
    "    def __init__(self, word: str, *args, **kwargs):\n",
    "        self.word = word\n",
    "        super().__init__(*args, **kwargs)  # this is important, don't forget it\n",
    "    \n",
    "    def run(self):\n",
    "        return f\"I know the next word: {self.word}\"\n",
    "\n",
    "MySecondTask(\"Meow\").run()"
   ]
  },
  {
   "cell_type": "code",
   "execution_count": 29,
   "id": "e8ee4348-c083-4624-952c-91254cb9fb22",
   "metadata": {},
   "outputs": [
    {
     "data": {
      "text/plain": [
       "True"
      ]
     },
     "execution_count": 29,
     "metadata": {},
     "output_type": "execute_result"
    }
   ],
   "source": [
    "# Finish the Task: the task should accept N (int) seconds during the initialization, sleep for N seconds during the execution and return True\n",
    "\n",
    "class SleepTask(Task):\n",
    "    def __init__(self, N: int, *args, **kwargs):\n",
    "        ### YOUR IMPLEMENTATION STARTS HERE\n",
    "\n",
    "        ### YOUR IMPLEMENTATION ENDS HERE\n",
    "        super().__init__(*args, **kwargs)\n",
    "\n",
    "    def run(self):\n",
    "        import time\n",
    "        ### YOUR IMPLEMENTATION STARTS HERE\n",
    "        # use time.sleep\n",
    "\n",
    "        ### YOUR IMPLEMENTATION ENDS HERE\n",
    "        return True\n",
    "\n",
    "SleepTask(3).run()"
   ]
  },
  {
   "cell_type": "markdown",
   "id": "98bffc6c-cff0-4baa-bc08-3d5fa50581ce",
   "metadata": {},
   "source": [
    "### Pipeline\n",
    "\n",
    "A Pipeline is the main block of the data collection. It's an ordered collection of tasks, separated into stages. Each stage contains one or more tasks, and all tasks on the stage would start in parallel, and the stage would finish when all tasks of the stage would finish. Afterward, the next stage will start.\n",
    "\n",
    "The Pipeline would be deployed to working nodes (servers, PCs, VMs, anything that can run code) to be executed. After the execution, the results of the pipeline would be returned to a user.\n",
    "\n",
    "Let's look at the Pipeline examples."
   ]
  },
  {
   "cell_type": "code",
   "execution_count": 30,
   "id": "d28f1617-1439-40c4-91a5-37703f7e459a",
   "metadata": {},
   "outputs": [
    {
     "name": "stdout",
     "output_type": "stream",
     "text": [
      "Pipeline(37c3611c-f954-4f9b-9ee8-1b306b3bc6ee): {'root': [<__main__.MyFirstTask with name b69e5e5e-8e93-4140-bf03-ccb08119725f>], 1: [<__main__.MySecondTask with name c2187a1e-ee6b-4a73-99e4-fc47f31562fd>], 2: [<__main__.SleepTask with name eb39e871-efed-4b43-9788-54c2fb7f32d6>]}\n"
     ]
    }
   ],
   "source": [
    "from netunicorn.base import Pipeline\n",
    "\n",
    "# Three tasks after each other: 3 stages total\n",
    "pipeline = (\n",
    "    Pipeline()\n",
    "    .then(MyFirstTask())\n",
    "    .then(MySecondTask(\"meow\"))\n",
    "    .then(SleepTask(5))\n",
    ")\n",
    "\n",
    "print(pipeline)"
   ]
  },
  {
   "cell_type": "code",
   "execution_count": 31,
   "id": "d0c5b8ea-8040-42ae-991e-3735def0e94b",
   "metadata": {},
   "outputs": [
    {
     "name": "stdout",
     "output_type": "stream",
     "text": [
      "Pipeline(784208bb-af3b-4305-acc4-cafda3cf20e3): {'root': [<__main__.MyFirstTask with name 0bcf5d4e-54f5-49f6-9c5a-7c1e1ff04299>, <__main__.MySecondTask with name 860e8c93-224c-4a16-8c47-bda528b4f9ae>, <__main__.SleepTask with name a69566ce-a18e-4d32-853c-8fc911b94804>]}\n"
     ]
    }
   ],
   "source": [
    "# All Tasks in parallel: 1 stage total\n",
    "pipeline = (\n",
    "    Pipeline()\n",
    "    .then([\n",
    "        MyFirstTask(),\n",
    "        MySecondTask(\"meow\"),\n",
    "        SleepTask(5)\n",
    "    ])\n",
    ")\n",
    "\n",
    "print(pipeline)"
   ]
  },
  {
   "cell_type": "code",
   "execution_count": 32,
   "id": "0130ad10-a5b9-41d2-b400-0e413412c9d1",
   "metadata": {},
   "outputs": [
    {
     "name": "stdout",
     "output_type": "stream",
     "text": [
      "Pipeline(32d43ae1-4dd3-4212-bb4a-441ced03a461): {'root': [<__main__.MyFirstTask with name 92fb19a8-f4a1-4534-b4f7-45e744b3a6cc>, <__main__.MySecondTask with name e7323a22-5fa4-444d-b413-613a2b511845>], 1: [<__main__.SleepTask with name 53a038df-875a-4ed1-98e4-c40afe19144c>]}\n"
     ]
    }
   ],
   "source": [
    "# Two Tasks in parallel and the third after they are finished: 2 stages in total\n",
    "pipeline = (\n",
    "    Pipeline()\n",
    "    .then([\n",
    "        MyFirstTask(),\n",
    "        MySecondTask(\"meow\"),\n",
    "    ])\n",
    "    .then(SleepTask(5))\n",
    ")\n",
    "\n",
    "print(pipeline)"
   ]
  },
  {
   "cell_type": "code",
   "execution_count": 33,
   "id": "78cc8db8-fa41-4404-b18f-ba8bc41ea92a",
   "metadata": {},
   "outputs": [],
   "source": [
    "# Finish the Pipeline:\n",
    "# stage 1: MyFirstTask()\n",
    "# stage 2: MySecondTask(\"meow\") and SleepTask(5) in parallel\n",
    "\n",
    "### YOUR IMPLEMENTATION STARTS HERE\n",
    "\n",
    "### YOUR IMPLEMENTATION ENDS HERE"
   ]
  },
  {
   "cell_type": "markdown",
   "id": "4fbeaf38-665e-4b42-8ee2-e50aae495837",
   "metadata": {},
   "source": [
    "## Implementing something useful\n",
    "\n",
    "Let's design a simple pipeline where for a given name of a website, we will get its IP address, geolocation, and the content of the main page.\n",
    "\n",
    "This will consist of multiple tasks and a pipeline that gathers them together."
   ]
  },
  {
   "cell_type": "code",
   "execution_count": 34,
   "id": "ee326288-61fe-450a-ba2d-d62c7b8eeffd",
   "metadata": {
    "scrolled": true
   },
   "outputs": [
    {
     "data": {
      "text/plain": [
       "'<!doctype html><html itemscope=\"\" itemtype=\"http://schema.org/WebPage\" lang=\"en\"><head><meta content=\"Search the world\\'s information, including webpages, images, videos and more. Google has many special features to help you find exactly what you\\'re looking for.\" name=\"description\"><meta content=\"noodp, \" name=\"robots\"><meta content=\"text/html; charset=UTF-8\" http-equiv=\"Content-Type\"><meta content=\"/images/branding/googleg/1x/googleg_standard_color_128dp.png\" itemprop=\"image\"><title>Google</title><script nonce=\"SJw0PhgWeKaQKA5zanY7PQ\">(function(){var _g={kEI:\\'WiEbZ7uoK8L6kPIP3PCtqAs\\',kEXPI:\\'0,3700270,679,435,541533,2891,89155,18161,162437,23024,6699,124314,2006,8155,8860,14491,22435,9779,62657,36747,3801,2412,33249,15816,1804,7734,8334,9764,9437,960,10853,1635,29276,27083,5203197,12,9466,999,22,5992667,2839845,1088,198,44,3,13,44,34,120,1,7,2,4,1,37,7,8,26797342,1198753,43886,3,1603,3,2124363,23029351,7954,1,208,4636,16436,2728,81317,16825,5797,885,14280,8182,5933,8453,35043,9929,8,9074,2660,3434,3319,155,1,1,1,2481,13504,6451,1285,7033,2105,740,1,3,3856,328,3217,4,1235,1769,20601,2792,1,6,965,9258,688,19903,9242,709,1134,212,13648,55,49,2155,7,12,7317,1956,4134,4844,3295,1,714,1232,2508,1626,1687,1905,12568,49,748,377,8307,6387,2,1797,9336,956,374,4145,6759,89,2,1541,256,2399,1314,4553,286,2987,1946,884,484,582,1,1,2,3,273,2,1176,41,1928,1,1,2,3,815,1180,2100,105,966,718,213,243,1,240,2537,829,1158,199,400,1,1753,1498,12,633,462,1,2649,115,343,1,3,636,1,34,1346,1023,337,558,1,3,205,519,468,397,49,1,75,1774,407,2837,156,2153,1551,707,879,748,1451,3163,1,220,1,6,493,473,2,244,484,144,2,2155,35,553,1008,1179,154,570,37,1205,1,39,117,741,285,192,515,380,3,7,147,652,182,258,444,5,322,8,699,341,863,62,352,2171,1085,273,567,686,125,1875,756,1,628,3,804,248,1298,170,212,77,315,4,2,595,229,7,9,1209,30,2,379,43,748,8,1,1,4,1,4,60,486,524,267,9,1553,15,6,1,4,431,657,533,178,230,2,1,6,214,395,404,250,2,760,342,171,95,403,1200,697,2,348,98,31,892,201,181,123,462,1046,170,41,2475,204,2,171,4,2863,21404353,4294,3,4589,7673,3639,3,7328,9665,21,591,1414,1480,866,2030,2428,7586287\\',kBL:\\'kluY\\',kOPI:89978449};(function(){var a;((a=window.google)==null?0:a.stvsc)?google.kEI=_g.kEI:window.google=_g;}).call(this);})();(function(){google.sn=\\'webhp\\';google.kHL=\\'en\\';})();(function(){\\nvar h=this||self;function l(){return window.google!==void 0&&window.google.kOPI!==void 0&&window.google.kOPI!==0?window.google.kOPI:null};var m,n=[];function p(a){for(var b;a&&(!a.getAttribute||!(b=a.getAttribute(\"eid\")));)a=a.parentNode;return b||m}function q(a){for(var b=null;a&&(!a.getAttribute||!(b=a.getAttribute(\"leid\")));)a=a.parentNode;return b}function r(a){/^http:/i.test(a)&&window.location.protocol===\"https:\"&&(google.ml&&google.ml(Error(\"a\"),!1,{src:a,glmm:1}),a=\"\");return a}\\nfunction t(a,b,c,d,k){var e=\"\";b.search(\"&ei=\")===-1&&(e=\"&ei=\"+p(d),b.search(\"&lei=\")===-1&&(d=q(d))&&(e+=\"&lei=\"+d));d=\"\";var g=b.search(\"&cshid=\")===-1&&a!==\"slh\",f=[];f.push([\"zx\",Date.now().toString()]);h._cshid&&g&&f.push([\"cshid\",h._cshid]);c=c();c!=null&&f.push([\"opi\",c.toString()]);for(c=0;c<f.length;c++){if(c===0||c>0)d+=\"&\";d+=f[c][0]+\"=\"+f[c][1]}return\"/\"+(k||\"gen_204\")+\"?atyp=i&ct=\"+String(a)+\"&cad=\"+(b+e+d)};m=google.kEI;google.getEI=p;google.getLEI=q;google.ml=function(){return null};google.log=function(a,b,c,d,k,e){e=e===void 0?l:e;c||(c=t(a,b,e,d,k));if(c=r(c)){a=new Image;var g=n.length;n[g]=a;a.onerror=a.onload=a.onabort=function(){delete n[g]};a.src=c}};google.logUrl=function(a,b){b=b===void 0?l:b;return t(\"\",a,b)};}).call(this);(function(){google.y={};google.sy=[];var d;(d=google).x||(d.x=function(a,b){if(a)var c=a.id;else{do c=Math.random();while(google.y[c])}google.y[c]=[a,b];return!1});var e;(e=google).sx||(e.sx=function(a){google.sy.push(a)});google.lm=[];var f;(f=google).plm||(f.plm=function(a){google.lm.push.apply(google.lm,a)});google.lq=[];var g;(g=google).load||(g.load=function(a,b,c){google.lq.push([[a],b,c])});var h;(h=google).loadAll||(h.loadAll=function(a,b){google.lq.push([a,b])});google.bx=!1;var k;(k=google).lx||(k.lx=function(){});var l=[],m;(m=google).fce||(m.fce=function(a,b,c,n){l.push([a,b,c,n])});google.qce=l;}).call(this);google.f={};(function(){\\ndocument.documentElement.addEventListener(\"submit\",function(b){var a;if(a=b.target){var c=a.getAttribute(\"data-submitfalse\");a=c===\"1\"||c===\"q\"&&!a.elements.q.value?!0:!1}else a=!1;a&&(b.preventDefault(),b.stopPropagation())},!0);document.documentElement.addEventListener(\"click\",function(b){var a;a:{for(a=b.target;a&&a!==document.documentElement;a=a.parentElement)if(a.tagName===\"A\"){a=a.getAttribute(\"data-nohref\")===\"1\";break a}a=!1}a&&b.preventDefault()},!0);}).call(this);</script><style>#gbar,#guser{font-size:13px;padding-top:1px !important;}#gbar{height:22px}#guser{padding-bottom:7px !important;text-align:right}.gbh,.gbd{border-top:1px solid #c9d7f1;font-size:1px}.gbh{height:0;position:absolute;top:24px;width:100%}@media all{.gb1{height:22px;margin-right:.5em;vertical-align:top}#gbar{float:left}}a.gb1,a.gb4{text-decoration:underline !important}a.gb1,a.gb4{color:#00c !important}.gbi .gb4{color:#dd8e27 !important}.gbf .gb4{color:#900 !important}\\n</style><style>body,td,a,p,.h{font-family:arial,sans-serif}body{margin:0;overflow-y:scroll}#gog{padding:3px 8px 0}td{line-height:.8em}.gac_m td{line-height:17px}form{margin-bottom:20px}.h{color:#1967d2}em{font-weight:bold;font-style:normal}.lst{height:25px;width:496px}.gsfi,.lst{font:18px arial,sans-serif}.gsfs{font:17px arial,sans-serif}.ds{display:inline-box;display:inline-block;margin:3px 0 4px;margin-left:4px}input{font-family:inherit}body{background:#fff;color:#000}a{color:#681da8;text-decoration:none}a:hover,a:active{text-decoration:underline}.fl a{color:#1967d2}a:visited{color:#681da8}.sblc{padding-top:5px}.sblc a{display:block;margin:2px 0;margin-left:13px;font-size:11px}.lsbb{background:#f8f9fa;border:solid 1px;border-color:#dadce0 #70757a #70757a #dadce0;height:30px}.lsbb{display:block}#WqQANb a{display:inline-block;margin:0 12px}.lsb{background:url(/images/nav_logo229.png) 0 -261px repeat-x;color:#000;border:none;cursor:pointer;height:30px;margin:0;outline:0;font:15px arial,sans-serif;vertical-align:top}.lsb:active{background:#dadce0}.lst:focus{outline:none}</style><script nonce=\"SJw0PhgWeKaQKA5zanY7PQ\">(function(){window.google.erd={jsr:1,bv:2103,de:true,dpf:\\'KEnaa8C8VY9ktxRNi2512gBFClSnfkFLbVgCk8z8GAc\\'};\\nvar g=this||self;var k,l=(k=g.mei)!=null?k:1,n,p=(n=g.sdo)!=null?n:!0,q=0,r,t=google.erd,v=t.jsr;google.ml=function(a,b,d,m,e){e=e===void 0?2:e;b&&(r=a&&a.message);d===void 0&&(d={});d.cad=\"ple_\"+google.ple+\".aple_\"+google.aple;if(google.dl)return google.dl(a,e,d,!0),null;b=d;if(v<0){window.console&&console.error(a,b);if(v===-2)throw a;b=!1}else b=!a||!a.message||a.message===\"Error loading script\"||q>=l&&!m?!1:!0;if(!b)return null;q++;d=d||{};b=encodeURIComponent;var c=\"/gen_204?atyp=i&ei=\"+b(google.kEI);google.kEXPI&&(c+=\"&jexpid=\"+b(google.kEXPI));c+=\"&srcpg=\"+b(google.sn)+\"&jsr=\"+b(t.jsr)+\\n\"&bver=\"+b(t.bv);t.dpf&&(c+=\"&dpf=\"+b(t.dpf));var f=a.lineNumber;f!==void 0&&(c+=\"&line=\"+f);var h=a.fileName;h&&(h.indexOf(\"-extension:/\")>0&&(e=3),c+=\"&script=\"+b(h),f&&h===window.location.href&&(f=document.documentElement.outerHTML.split(\"\\\\n\")[f],c+=\"&cad=\"+b(f?f.substring(0,300):\"No script found.\")));google.ple&&google.ple===1&&(e=2);c+=\"&jsel=\"+e;for(var u in d)c+=\"&\",c+=b(u),c+=\"=\",c+=b(d[u]);c=c+\"&emsg=\"+b(a.name+\": \"+a.message);c=c+\"&jsst=\"+b(a.stack||\"N/A\");c.length>=12288&&(c=c.substr(0,12288));a=c;m||google.log(0,\"\",a);return a};window.onerror=function(a,b,d,m,e){r!==a&&(a=e instanceof Error?e:Error(a),d===void 0||\"lineNumber\"in a||(a.lineNumber=d),b===void 0||\"fileName\"in a||(a.fileName=b),google.ml(a,!1,void 0,!1,a.name===\"SyntaxError\"||a.message.substring(0,11)===\"SyntaxError\"||a.message.indexOf(\"Script error\")!==-1?3:0));r=null;p&&q>=l&&(window.onerror=null)};})();</script></head><body bgcolor=\"#fff\"><script nonce=\"SJw0PhgWeKaQKA5zanY7PQ\">(function(){var src=\\'/images/nav_logo229.png\\';var iesg=false;document.body.onload = function(){window.n && window.n();if (document.images){new Image().src=src;}\\nif (!iesg){document.f&&document.f.q.focus();document.gbqf&&document.gbqf.q.focus();}\\n}\\n})();</script><div id=\"mngb\"><div id=gbar><nobr><b class=gb1>Search</b> <a class=gb1 href=\"https://www.google.com/imghp?hl=en&tab=wi\">Images</a> <a class=gb1 href=\"https://maps.google.com/maps?hl=en&tab=wl\">Maps</a> <a class=gb1 href=\"https://play.google.com/?hl=en&tab=w8\">Play</a> <a class=gb1 href=\"https://www.youtube.com/?tab=w1\">YouTube</a> <a class=gb1 href=\"https://news.google.com/?tab=wn\">News</a> <a class=gb1 href=\"https://mail.google.com/mail/?tab=wm\">Gmail</a> <a class=gb1 href=\"https://drive.google.com/?tab=wo\">Drive</a> <a class=gb1 style=\"text-decoration:none\" href=\"https://www.google.com/intl/en/about/products?tab=wh\"><u>More</u> &raquo;</a></nobr></div><div id=guser width=100%><nobr><span id=gbn class=gbi></span><span id=gbf class=gbf></span><span id=gbe></span><a href=\"http://www.google.com/history/optout?hl=en\" class=gb4>Web History</a> | <a  href=\"/preferences?hl=en\" class=gb4>Settings</a> | <a target=_top id=gb_70 href=\"https://accounts.google.com/ServiceLogin?hl=en&passive=true&continue=https://www.google.com/&ec=GAZAAQ\" class=gb4>Sign in</a></nobr></div><div class=gbh style=left:0></div><div class=gbh style=right:0></div></div><center><br clear=\"all\" id=\"lgpd\"><div id=\"XjhHGf\"><img alt=\"Google\" height=\"92\" src=\"/images/branding/googlelogo/1x/googlelogo_white_background_color_272x92dp.png\" style=\"padding:28px 0 14px\" width=\"272\" id=\"hplogo\"><br><br></div><form action=\"/search\" name=\"f\"><table cellpadding=\"0\" cellspacing=\"0\"><tr valign=\"top\"><td width=\"25%\">&nbsp;</td><td align=\"center\" nowrap=\"\"><input name=\"ie\" value=\"ISO-8859-1\" type=\"hidden\"><input value=\"en\" name=\"hl\" type=\"hidden\"><input name=\"source\" type=\"hidden\" value=\"hp\"><input name=\"biw\" type=\"hidden\"><input name=\"bih\" type=\"hidden\"><div class=\"ds\" style=\"height:32px;margin:4px 0\"><input class=\"lst\" style=\"margin:0;padding:5px 8px 0 6px;vertical-align:top;color:#000\" autocomplete=\"off\" value=\"\" title=\"Google Search\" maxlength=\"2048\" name=\"q\" size=\"57\"></div><br style=\"line-height:0\"><span class=\"ds\"><span class=\"lsbb\"><input class=\"lsb\" value=\"Google Search\" name=\"btnG\" type=\"submit\"></span></span><span class=\"ds\"><span class=\"lsbb\"><input class=\"lsb\" id=\"tsuid_1\" value=\"I\\'m Feeling Lucky\" name=\"btnI\" type=\"submit\"><script nonce=\"SJw0PhgWeKaQKA5zanY7PQ\">(function(){var id=\\'tsuid_1\\';document.getElementById(id).onclick = function(){if (this.form.q.value){this.checked = 1;if (this.form.iflsig)this.form.iflsig.disabled = false;}\\nelse top.location=\\'/doodles/\\';};})();</script><input value=\"AL9hbdgAAAAAZxsvauakNW0GuU-CRdi2iQC91fWd0PTQ\" name=\"iflsig\" type=\"hidden\"></span></span></td><td class=\"fl sblc\" align=\"left\" nowrap=\"\" width=\"25%\"><a href=\"/advanced_search?hl=en&amp;authuser=0\">Advanced search</a></td></tr></table><input id=\"gbv\" name=\"gbv\" type=\"hidden\" value=\"1\"><script nonce=\"SJw0PhgWeKaQKA5zanY7PQ\">(function(){var a,b=\"1\";if(document&&document.getElementById)if(typeof XMLHttpRequest!=\"undefined\")b=\"2\";else if(typeof ActiveXObject!=\"undefined\"){var c,d,e=[\"MSXML2.XMLHTTP.6.0\",\"MSXML2.XMLHTTP.3.0\",\"MSXML2.XMLHTTP\",\"Microsoft.XMLHTTP\"];for(c=0;d=e[c++];)try{new ActiveXObject(d),b=\"2\"}catch(h){}}a=b;if(a==\"2\"&&location.search.indexOf(\"&gbv=2\")==-1){var f=google.gbvu,g=document.getElementById(\"gbv\");g&&(g.value=a);f&&window.setTimeout(function(){location.href=f},0)};}).call(this);</script></form><div style=\"font-size:83%;min-height:3.5em\"><br></div><span id=\"footer\"><div style=\"font-size:10pt\"><div style=\"margin:19px auto;text-align:center\" id=\"WqQANb\"><a href=\"/intl/en/ads/\">Advertising</a><a href=\"/services/\">Business Solutions</a><a href=\"/intl/en/about.html\">About Google</a></div></div><p style=\"font-size:8pt;color:#70757a\">&copy; 2024 - <a href=\"/intl/en/policies/privacy/\">Privacy</a> - <a href=\"/intl/en/policies/terms/\">Terms</a></p></span></center><script nonce=\"SJw0PhgWeKaQKA5zanY7PQ\">(function(){window.google.cdo={height:757,width:1440};(function(){var a=window.innerWidth,b=window.innerHeight;if(!a||!b){var c=window.document,d=c.compatMode==\"CSS1Compat\"?c.documentElement:c.body;a=d.clientWidth;b=d.clientHeight}\\nif(a&&b&&(a!=google.cdo.width||b!=google.cdo.height)){var e=google,f=e.log,g=\"/client_204?&atyp=i&biw=\"+a+\"&bih=\"+b+\"&ei=\"+google.kEI,h=\"\",k=[],l=window.google!==void 0&&window.google.kOPI!==void 0&&window.google.kOPI!==0?window.google.kOPI:null;l!=null&&k.push([\"opi\",l.toString()]);for(var m=0;m<k.length;m++){if(m===0||m>0)h+=\"&\";h+=k[m][0]+\"=\"+k[m][1]}f.call(e,\"\",\"\",g+h)};}).call(this);})();</script>  <script nonce=\"SJw0PhgWeKaQKA5zanY7PQ\">(function(){google.xjs={basecomb:\\'/xjs/_/js/k\\\\x3dxjs.hp.en.mFizU1RXHXI.es5.O/ck\\\\x3dxjs.hp.u6VifKyplPg.L.X.O/am\\\\x3dAgAAAEAAAAAAAAAAAAAAAAAAAAAAAAAAAABAEAAAAAAAAAAAGACAGAAAAAIABAQAAAAAHAAAAIAAAAQgAgBQABAmAAAciO8IAATAIgAAvA/d\\\\x3d1/ed\\\\x3d1/dg\\\\x3d0/ujg\\\\x3d1/rs\\\\x3dACT90oEhFqpNT8r21AKFl51sqz4ZcV3a9A\\',basecss:\\'/xjs/_/ss/k\\\\x3dxjs.hp.u6VifKyplPg.L.X.O/am\\\\x3dAgAAAEAAAAAAAAAAAAAAAAAAAAAAAAAAAAAAEAAAAAAAAAAAAACAAAAAAAIABAQAAAAAAAAAAIAAAAQgAgBQABAm/rs\\\\x3dACT90oGG7vV8zZ22LuBxQ7jAYiL4_uF3bg\\',basejs:\\'/xjs/_/js/k\\\\x3dxjs.hp.en.mFizU1RXHXI.es5.O/am\\\\x3dAAAAAAAAAAAAAAAAAAAAAAAAAAAAAAAAAABAAAAAAAAAAAAAGAAAGAAAAAAAAAAAAAAAHAAAAAAAAAAAAAAAAAAAAAAciO8IAATAIgAAvA/dg\\\\x3d0/rs\\\\x3dACT90oEqC5s7t1VyfHV5JQ4ep0iZXK0jIg\\',excm:[]};})();</script>  <link href=\"/xjs/_/ss/k=xjs.hp.u6VifKyplPg.L.X.O/am=AgAAAEAAAAAAAAAAAAAAAAAAAAAAAAAAAAAAEAAAAAAAAAAAAACAAAAAAAIABAQAAAAAAAAAAIAAAAQgAgBQABAm/d=1/ed=1/rs=ACT90oGG7vV8zZ22LuBxQ7jAYiL4_uF3bg/m=sb_he,d\" rel=\"stylesheet\" nonce=\"SJw0PhgWeKaQKA5zanY7PQ\">      <script nonce=\"SJw0PhgWeKaQKA5zanY7PQ\">(function(){var u=\\'/xjs/_/js/k\\\\x3dxjs.hp.en.mFizU1RXHXI.es5.O/am\\\\x3dAAAAAAAAAAAAAAAAAAAAAAAAAAAAAAAAAABAAAAAAAAAAAAAGAAAGAAAAAAAAAAAAAAAHAAAAAAAAAAAAAAAAAAAAAAciO8IAATAIgAAvA/d\\\\x3d1/ed\\\\x3d1/dg\\\\x3d3/rs\\\\x3dACT90oEqC5s7t1VyfHV5JQ4ep0iZXK0jIg/m\\\\x3dsb_he,d\\';var st=1;var amd=1000;var mmd=0;var pod=true;var f=typeof Object.defineProperties==\"function\"?Object.defineProperty:function(a,b,c){if(a==Array.prototype||a==Object.prototype)return a;a[b]=c.value;return a},g=function(a){a=[\"object\"==typeof globalThis&&globalThis,a,\"object\"==typeof window&&window,\"object\"==typeof self&&self,\"object\"==typeof global&&global];for(var b=0;b<a.length;++b){var c=a[b];if(c&&c.Math==Math)return c}throw Error(\"a\");},h=g(this),k=function(a,b){if(b)a:{var c=h;a=a.split(\".\");for(var d=0;d<a.length-1;d++){var e=a[d];if(!(e in\\nc))break a;c=c[e]}a=a[a.length-1];d=c[a];b=b(d);b!=d&&b!=null&&f(c,a,{configurable:!0,writable:!0,value:b})}};k(\"globalThis\",function(a){return a||h});\\nvar l=this||self;function m(){var a,b,c;if(b=a=(b=window.google)==null?void 0:(c=b.ia)==null?void 0:c.r.B2Jtyd)b=a.m,b=b===1||b===5;return b&&a.cbfd!=null&&a.cbvi!=null?a:void 0};\\nvar n=globalThis.trustedTypes,p;function q(){var a=null;if(!n)return a;try{var b=function(c){return c};a=n.createPolicy(\"goog#html\",{createHTML:b,createScript:b,createScriptURL:b})}catch(c){}return a};var r=function(a){this.g=a};r.prototype.toString=function(){return this.g+\"\"};function t(a){if(a instanceof r)return a.g;throw Error(\"b\");};var w=/^\\\\s*(?!javascript:)(?:[\\\\w+.-]+:|[^:/?#]*(?:[/?#]|$))/i;var x=\"alternate author bookmark canonical cite help icon license modulepreload next prefetch dns-prefetch prerender preconnect preload prev search subresource\".split(\" \");function y(a,b){a.src=t(b);var c;b=a.ownerDocument&&a.ownerDocument.defaultView||window;b=b===void 0?document:b;var d;b=(d=(c=\"document\"in b?b.document:b).querySelector)==null?void 0:d.call(c,\"script[nonce]\");(c=b==null?\"\":b.nonce||b.getAttribute(\"nonce\")||\"\")&&a.setAttribute(\"nonce\",c)};var z=function(a){var b=document;a=String(a);b.contentType===\"application/xhtml+xml\"&&(a=a.toLowerCase());return b.createElement(a)};function A(a){a=a===null?\"null\":a===void 0?\"undefined\":a;p===void 0&&(p=q());var b=p;return new r(b?b.createScriptURL(a):a)};google.ps===void 0&&(google.ps=[]);function B(){var a=u,b=function(){};google.lx=google.stvsc?b:function(){C(a);google.lx=b};google.bx||google.lx()}function D(a,b){b&&y(a,A(b));var c=a.onload;a.onload=function(d){c&&c(d);google.ps=google.ps.filter(function(e){return a!==e})};google.ps.push(a);document.body.appendChild(a)}google.as=D;function C(a){google.timers&&google.timers.load&&google.tick&&google.tick(\"load\",\"xjsls\");var b=z(\"SCRIPT\");b.onerror=function(){google.ple=1};b.onload=function(){google.ple=0};google.xjsus=void 0;D(b,a);google.aple=-1;google.dp=!0}\\nfunction E(){var a=[u];if(!google.dp){for(var b=0;b<a.length;b++){var c=z(\"LINK\"),d=c,e=A(a[b]);if(e instanceof r)d.href=t(e).toString(),d.rel=\"preload\";else{if(x.indexOf(\"preload\")===-1)throw Error(\"c`preload\");e=w.test(e)?e:void 0;e!==void 0&&(d.href=e,d.rel=\"preload\")}c.setAttribute(\"as\",\"script\");document.body.appendChild(c)}google.dp=!0}};function F(a){var b=a.getAttribute(\"jscontroller\");return(b===\"UBXHI\"||b===\"R3fhkb\"||b===\"TSZEqd\")&&a.hasAttribute(\"data-src\")}function G(){for(var a=document.getElementsByTagName(\"img\"),b=0,c=a.length;b<c;b++){var d=a[b];if(d.hasAttribute(\"data-lzy_\")&&Number(d.getAttribute(\"data-atf\"))&1&&!F(d))return!0}return!1}for(var H=document.getElementsByTagName(\"img\"),I=0,J=H.length;I<J;++I){var K=H[I];Number(K.getAttribute(\"data-atf\"))&1&&F(K)&&(K.src=K.getAttribute(\"data-src\"))};var L,M,N,O,P,Q;function R(){google.xjsu=u;l._F_jsUrl=u;P=function(){B()};L=!1;M=(st===1||st===3)&&!!google.caft&&!G();N=m();O=(st===2||st===3)&&!!N&&!G();Q=pod}function S(){L||M||O||(P(),L=!0)}setTimeout(function(){google&&google.tick&&google.timers&&google.timers.load&&google.tick(\"load\",\"xjspls\");R();if(M||O){if(M){var a=function(){M=!1;S()};google.caft(a);window.setTimeout(a,amd)}O&&(a=function(){O=!1;S()},N.cbvi.push(a),window.setTimeout(a,mmd));Q&&(L||E())}else P()},0);})();window._ = window._ || {};window._DumpException = _._DumpException = function(e){throw e;};window._s = window._s || {};_s._DumpException = _._DumpException;window._qs = window._qs || {};_qs._DumpException = _._DumpException;(function(){var t=[2,256,0,0,0,0,0,1042,67108864,6553605,16877600,167936,1028,7340160,134217728,134283264,273678338,38992,251167168,813760514,1006632994,2];window._F_toggles = window._xjs_toggles = t;})();window._F_installCss = window._F_installCss || function(css){};(function(){google.jl={bfl:0,dw:false,ine:false,ubm:false,uwp:true,vs:false};})();(function(){var pmc=\\'{\\\\x22d\\\\x22:{},\\\\x22sb_he\\\\x22:{\\\\x22agen\\\\x22:false,\\\\x22cgen\\\\x22:false,\\\\x22client\\\\x22:\\\\x22heirloom-hp\\\\x22,\\\\x22dh\\\\x22:true,\\\\x22ds\\\\x22:\\\\x22\\\\x22,\\\\x22fl\\\\x22:true,\\\\x22host\\\\x22:\\\\x22google.com\\\\x22,\\\\x22jsonp\\\\x22:true,\\\\x22msgs\\\\x22:{\\\\x22cibl\\\\x22:\\\\x22Clear Search\\\\x22,\\\\x22dym\\\\x22:\\\\x22Did you mean:\\\\x22,\\\\x22lcky\\\\x22:\\\\x22I\\\\\\\\u0026#39;m Feeling Lucky\\\\x22,\\\\x22lml\\\\x22:\\\\x22Learn more\\\\x22,\\\\x22psrc\\\\x22:\\\\x22This search was removed from your \\\\\\\\u003Ca href\\\\x3d\\\\\\\\\\\\x22/history\\\\\\\\\\\\x22\\\\\\\\u003EWeb History\\\\\\\\u003C/a\\\\\\\\u003E\\\\x22,\\\\x22psrl\\\\x22:\\\\x22Remove\\\\x22,\\\\x22sbit\\\\x22:\\\\x22Search by image\\\\x22,\\\\x22srch\\\\x22:\\\\x22Google Search\\\\x22},\\\\x22ovr\\\\x22:{},\\\\x22pq\\\\x22:\\\\x22\\\\x22,\\\\x22rfs\\\\x22:[],\\\\x22stok\\\\x22:\\\\x22F5gwX_z4N0bc9YqNnbQIS_C9jbg\\\\x22}}\\';google.pmc=JSON.parse(pmc);})();(function(){var b=function(a){var c=0;return function(){return c<a.length?{done:!1,value:a[c++]}:{done:!0}}};\\nvar e=this||self;var g,h;a:{for(var k=[\"CLOSURE_FLAGS\"],l=e,n=0;n<k.length;n++)if(l=l[k[n]],l==null){h=null;break a}h=l}var p=h&&h[610401301];g=p!=null?p:!1;var q,r=e.navigator;q=r?r.userAgentData||null:null;function t(a){return g?q?q.brands.some(function(c){return(c=c.brand)&&c.indexOf(a)!=-1}):!1:!1}function u(a){var c;a:{if(c=e.navigator)if(c=c.userAgent)break a;c=\"\"}return c.indexOf(a)!=-1};function v(){return g?!!q&&q.brands.length>0:!1}function w(){return u(\"Safari\")&&!(x()||(v()?0:u(\"Coast\"))||(v()?0:u(\"Opera\"))||(v()?0:u(\"Edge\"))||(v()?t(\"Microsoft Edge\"):u(\"Edg/\"))||(v()?t(\"Opera\"):u(\"OPR\"))||u(\"Firefox\")||u(\"FxiOS\")||u(\"Silk\")||u(\"Android\"))}function x(){return v()?t(\"Chromium\"):(u(\"Chrome\")||u(\"CriOS\"))&&!(v()?0:u(\"Edge\"))||u(\"Silk\")}function y(){return u(\"Android\")&&!(x()||u(\"Firefox\")||u(\"FxiOS\")||(v()?0:u(\"Opera\"))||u(\"Silk\"))};var z=v()?!1:u(\"Trident\")||u(\"MSIE\");y();x();w();var A=!z&&!w(),D=function(a){if(/-[a-z]/.test(\"ved\"))return null;if(A&&a.dataset){if(y()&&!(\"ved\"in a.dataset))return null;a=a.dataset.ved;return a===void 0?null:a}return a.getAttribute(\"data-\"+\"ved\".replace(/([A-Z])/g,\"-$1\").toLowerCase())};var E=[],F=null;function G(a){a=a.target;var c=performance.now(),f=[],H=f.concat,d=E;if(!(d instanceof Array)){var m=typeof Symbol!=\"undefined\"&&Symbol.iterator&&d[Symbol.iterator];if(m)d=m.call(d);else if(typeof d.length==\"number\")d={next:b(d)};else throw Error(\"b`\"+String(d));for(var B=[];!(m=d.next()).done;)B.push(m.value);d=B}E=H.call(f,d,[c]);if(a&&a instanceof HTMLElement)if(a===F){if(c=E.length>=4)c=(E[E.length-1]-E[E.length-4])/1E3<5;if(c){c=google.getEI(a);a.hasAttribute(\"data-ved\")?f=a?D(a)||\"\":\"\":f=(f=\\na.closest(\"[data-ved]\"))?D(f)||\"\":\"\";f=f||\"\";if(a.hasAttribute(\"jsname\"))a=a.getAttribute(\"jsname\");else{var C;a=(C=a.closest(\"[jsname]\"))==null?void 0:C.getAttribute(\"jsname\")}google.log(\"rcm\",\"&ei=\"+c+\"&tgtved=\"+f+\"&jsname=\"+(a||\"\"))}}else F=a,E=[c]}window.document.addEventListener(\"DOMContentLoaded\",function(){document.body.addEventListener(\"click\",G)});}).call(this);</script></body></html>'"
      ]
     },
     "execution_count": 34,
     "metadata": {},
     "output_type": "execute_result"
    }
   ],
   "source": [
    "class GetContentTask(Task):\n",
    "    def __init__(self, url: str, *args, **kwargs):\n",
    "        self.url = url\n",
    "        super().__init__(*args, **kwargs)\n",
    "\n",
    "    def run(self):\n",
    "        import requests\n",
    "        \n",
    "        url = self.url\n",
    "        if not url.startswith(\"https://\"):\n",
    "            url = \"https://\" + url\n",
    "\n",
    "        response = requests.get(url)\n",
    "        return response.text\n",
    "\n",
    "GetContentTask(\"google.com\").run()"
   ]
  },
  {
   "cell_type": "code",
   "execution_count": 35,
   "id": "d2dd0cbb-2c63-459d-9fc0-ca561747178a",
   "metadata": {},
   "outputs": [
    {
     "data": {
      "text/plain": [
       "'142.250.72.164'"
      ]
     },
     "execution_count": 35,
     "metadata": {},
     "output_type": "execute_result"
    }
   ],
   "source": [
    "class GetIPAddress(Task):\n",
    "    def __init__(self, url: str, *args, **kwargs):\n",
    "        self.url = url\n",
    "        super().__init__(*args, **kwargs)\n",
    "\n",
    "    def run(self):\n",
    "        import dns.resolver\n",
    "        try:\n",
    "            url = self.url\n",
    "            if url.startswith(\"https://\"):\n",
    "                url = url[8:]\n",
    "            result = dns.resolver.resolve(url, 'A')\n",
    "            return [ip.to_text() for ip in result][0]\n",
    "        except Exception as e:\n",
    "            return Failure(str(e))\n",
    "\n",
    "GetIPAddress(\"https://www.google.com\").run()"
   ]
  },
  {
   "cell_type": "code",
   "execution_count": 36,
   "id": "8827640a-098a-4f71-866a-96e50b8444cf",
   "metadata": {},
   "outputs": [
    {
     "data": {
      "text/plain": [
       "{'ip': '142.250.72.164',\n",
       " 'hostname': 'lax17s50-in-f4.1e100.net',\n",
       " 'city': 'Los Angeles',\n",
       " 'region': 'California',\n",
       " 'country': 'US',\n",
       " 'loc': '34.0522,-118.2437',\n",
       " 'org': 'AS15169 Google LLC',\n",
       " 'postal': '90009',\n",
       " 'timezone': 'America/Los_Angeles',\n",
       " 'readme': 'https://ipinfo.io/missingauth'}"
      ]
     },
     "execution_count": 36,
     "metadata": {},
     "output_type": "execute_result"
    }
   ],
   "source": [
    "class GetLocationFromIPFromPreviousTasks(Task):\n",
    "    \"\"\"\n",
    "    This task is more complicated.\n",
    "    Tasks have an ability to read results from the previous tasks if needed, which are stored in self.previous_steps.\n",
    "    self.previous_steps is a dictionary of task-name: list of results of executions, each result is either Success or Failure which contains raw data which must be unwrapped (.unwrap())\n",
    "    Let's get IP address for geolocation from the previous steps\n",
    "    \"\"\"\n",
    "    def __init__(self, task_name: str, *args, **kwargs):\n",
    "        self.task_name = task_name  # providing a task name from which to get an IP address\n",
    "        super().__init__(*args, **kwargs)\n",
    "\n",
    "    def run(self):\n",
    "        ip_address = self.previous_steps[self.task_name][0].unwrap()   # getting previous results -> our task name -> first execution result -> unwrap it to get the raw IP\n",
    "        url = f\"https://ipinfo.io/{ip_address}/json\"\n",
    "        response = requests.get(url)\n",
    "        if response.status_code == 200:\n",
    "            return response.json()  # Returns IP information as a dictionary\n",
    "        else:\n",
    "            return Failure(response.text)\n",
    "\n",
    "\n",
    "task = GetLocationFromIPFromPreviousTasks(\"test\")\n",
    "task.previous_steps = {\"test\": [Success(\"142.250.72.164\")]}  # this line would be set automatically by the executor, here we test it only to know whether it will work\n",
    "task.run()\n",
    "    "
   ]
  },
  {
   "cell_type": "markdown",
   "id": "14790d67-a16a-4be6-ad55-b0a344cf342f",
   "metadata": {},
   "source": [
    "Now, let's combine our pipeline and run it with our local executor"
   ]
  },
  {
   "cell_type": "code",
   "execution_count": 37,
   "id": "551d2211-fa95-430c-baf0-bf32fcce40c9",
   "metadata": {},
   "outputs": [
    {
     "name": "stderr",
     "output_type": "stream",
     "text": [
      "INFO:executor_local:Parsed configuration: Gateway located on fake\n",
      "INFO:executor_local:Current directory: /home/satyandra/Downloads/netunicorn_examples\n",
      "INFO:executor_local:Execution is finished, start reporting results.\n",
      "INFO:executor_local:Skipping reporting results due to execution graph setting.\n"
     ]
    }
   ],
   "source": [
    "website = \"https://google.com\"  # Put any other website here\n",
    "\n",
    "pipeline = (\n",
    "    Pipeline()\n",
    "    .then(GetIPAddress(website, name=\"iptask\"))  # name might be anything unique, just use the same in the next task\n",
    "    .then(GetLocationFromIPFromPreviousTasks(\"iptask\", name=\"location-task\"))\n",
    "    .then(GetContentTask(website, name=\"content-task\"))\n",
    ")\n",
    "\n",
    "# running the pipeline locally\n",
    "executor = get_local_executor(pipeline)\n",
    "executor()"
   ]
  },
  {
   "cell_type": "markdown",
   "id": "9c7171df-1b78-494c-828a-e8ebdb0bc327",
   "metadata": {},
   "source": [
    "Now it's time to explore the results:"
   ]
  },
  {
   "cell_type": "code",
   "execution_count": 38,
   "id": "fef176eb-0d4f-44b5-8937-d64928d71cd4",
   "metadata": {},
   "outputs": [
    {
     "name": "stdout",
     "output_type": "stream",
     "text": [
      "Name of the task: iptask\n",
      "List of results of executions: [<Success: 142.251.40.46>]\n",
      "--------------------------------------------------------------------------------\n",
      "\n",
      "\n",
      "Name of the task: location-task\n",
      "List of results of executions: [<Success: {'ip': '142.251.40.46', 'hostname': 'lax17s55-in-f14.1e100.net', 'city': 'Los Angeles', 'region': 'California', 'country': 'US', 'loc': '34.0522,-118.2437', 'org': 'AS15169 Google LLC', 'postal': '90009', 'timezone': 'America/Los_Angeles', 'readme': 'https://ipinfo.io/missingauth'}>]\n",
      "--------------------------------------------------------------------------------\n",
      "\n",
      "\n",
      "Name of the task: content-task\n",
      "List of results of executions: [<Success: <!doctype html><html itemscope=\"\" itemtype=\"http://schema.org/WebPage\" lang=\"en\"><head><meta content=\"Search the world's information, including webpages, images, videos and more. Google has many special features to help you find exactly what you're looking for.\" name=\"description\"><meta content=\"noodp, \" name=\"robots\"><meta content=\"text/html; charset=UTF-8\" http-equiv=\"Content-Type\"><meta content=\"/images/branding/googleg/1x/googleg_standard_color_128dp.png\" itemprop=\"image\"><title>Google</title><script nonce=\"05qjmDqg2S79cOSG69atHw\">(function(){var _g={kEI:'kCEbZ7jTCrKiur8PtYTomQw',kEXPI:'0,18167,3682087,695,435,302126,236535,2872,2891,73050,16105,18161,60058,102379,23024,6699,126320,8155,8861,14490,22435,9779,62657,36747,3801,2412,33249,15816,1804,7734,18098,9437,11813,1635,9707,19569,27083,5212676,1020,115,5992551,19,2839827,1088,198,41,11,52,34,120,1,6,1,6,1,36,1,6,1,7,1,27979422,16673,43886,3,1603,3,2124363,23029351,8163,4636,16436,2727,58854,22464,11737,10885,885,14278,8183,5934,36873,6623,1960,7276,4883,4892,2664,3430,3319,155,1,1,1,2481,13503,6452,1285,7041,2097,4600,328,3217,4,1235,1769,1116,1833,17652,3765,9257,687,7852,24,11458,4736,2237,3548,1134,212,8817,4831,55,2204,7,12,9273,4134,4844,3295,1,1946,2050,3769,1910,9471,5,3089,49,748,5519,1,3164,3213,4973,9336,956,374,4145,6759,89,2,29,1512,256,597,93,1708,976,3,2,1,9,43,280,10657,1066,1,1,2,3,273,2,572,1,603,41,1928,1,1,2,3,817,3278,2002,483,217,2321,829,1158,201,398,1,1616,138,452,1045,12,1098,1,521,39,46,2041,114,343,1,3,365,274,1,30,1347,149,890,321,558,1,3,205,520,469,444,1,84,1758,4674,2,884,1551,879,707,756,897,546,3384,1,6,492,45,434,2,239,484,144,2,2198,2196,536,154,570,37,1147,74,886,229,52,60,17,3,112,895,3,7,149,244,384,21,442,441,7,29,293,8,6,135,113,7,779,863,414,2171,598,1,6,480,151,123,275,141,5,6,136,130,2,553,128,1513,364,715,1,1145,330,249,1456,11,290,314,4,2,595,229,7,9,321,59,3,856,2,150,229,43,294,454,8,1,1,4,1,4,60,487,789,2020,369,1,16,271,711,450,125,273,654,2,375,21,364,342,395,1,272,19,169,401,1,540,73,593,450,131,517,31,190,98,3,2,52,146,26,1,208,124,461,976,241,567,1459,493,200,2,117,54,4,536,2,21406678,4294,3,15901,3,9033,7960,21,219,1786,1236,242,868,2971',kBL:'kluY',kOPI:89978449};(function(){var a;((a=window.google)==null?0:a.stvsc)?google.kEI=_g.kEI:window.google=_g;}).call(this);})();(function(){google.sn='webhp';google.kHL='en';})();(function(){\n",
      "var h=this||self;function l(){return window.google!==void 0&&window.google.kOPI!==void 0&&window.google.kOPI!==0?window.google.kOPI:null};var m,n=[];function p(a){for(var b;a&&(!a.getAttribute||!(b=a.getAttribute(\"eid\")));)a=a.parentNode;return b||m}function q(a){for(var b=null;a&&(!a.getAttribute||!(b=a.getAttribute(\"leid\")));)a=a.parentNode;return b}function r(a){/^http:/i.test(a)&&window.location.protocol===\"https:\"&&(google.ml&&google.ml(Error(\"a\"),!1,{src:a,glmm:1}),a=\"\");return a}\n",
      "function t(a,b,c,d,k){var e=\"\";b.search(\"&ei=\")===-1&&(e=\"&ei=\"+p(d),b.search(\"&lei=\")===-1&&(d=q(d))&&(e+=\"&lei=\"+d));d=\"\";var g=b.search(\"&cshid=\")===-1&&a!==\"slh\",f=[];f.push([\"zx\",Date.now().toString()]);h._cshid&&g&&f.push([\"cshid\",h._cshid]);c=c();c!=null&&f.push([\"opi\",c.toString()]);for(c=0;c<f.length;c++){if(c===0||c>0)d+=\"&\";d+=f[c][0]+\"=\"+f[c][1]}return\"/\"+(k||\"gen_204\")+\"?atyp=i&ct=\"+String(a)+\"&cad=\"+(b+e+d)};m=google.kEI;google.getEI=p;google.getLEI=q;google.ml=function(){return null};google.log=function(a,b,c,d,k,e){e=e===void 0?l:e;c||(c=t(a,b,e,d,k));if(c=r(c)){a=new Image;var g=n.length;n[g]=a;a.onerror=a.onload=a.onabort=function(){delete n[g]};a.src=c}};google.logUrl=function(a,b){b=b===void 0?l:b;return t(\"\",a,b)};}).call(this);(function(){google.y={};google.sy=[];var d;(d=google).x||(d.x=function(a,b){if(a)var c=a.id;else{do c=Math.random();while(google.y[c])}google.y[c]=[a,b];return!1});var e;(e=google).sx||(e.sx=function(a){google.sy.push(a)});google.lm=[];var f;(f=google).plm||(f.plm=function(a){google.lm.push.apply(google.lm,a)});google.lq=[];var g;(g=google).load||(g.load=function(a,b,c){google.lq.push([[a],b,c])});var h;(h=google).loadAll||(h.loadAll=function(a,b){google.lq.push([a,b])});google.bx=!1;var k;(k=google).lx||(k.lx=function(){});var l=[],m;(m=google).fce||(m.fce=function(a,b,c,n){l.push([a,b,c,n])});google.qce=l;}).call(this);google.f={};(function(){\n",
      "document.documentElement.addEventListener(\"submit\",function(b){var a;if(a=b.target){var c=a.getAttribute(\"data-submitfalse\");a=c===\"1\"||c===\"q\"&&!a.elements.q.value?!0:!1}else a=!1;a&&(b.preventDefault(),b.stopPropagation())},!0);document.documentElement.addEventListener(\"click\",function(b){var a;a:{for(a=b.target;a&&a!==document.documentElement;a=a.parentElement)if(a.tagName===\"A\"){a=a.getAttribute(\"data-nohref\")===\"1\";break a}a=!1}a&&b.preventDefault()},!0);}).call(this);</script><style>#gbar,#guser{font-size:13px;padding-top:1px !important;}#gbar{height:22px}#guser{padding-bottom:7px !important;text-align:right}.gbh,.gbd{border-top:1px solid #c9d7f1;font-size:1px}.gbh{height:0;position:absolute;top:24px;width:100%}@media all{.gb1{height:22px;margin-right:.5em;vertical-align:top}#gbar{float:left}}a.gb1,a.gb4{text-decoration:underline !important}a.gb1,a.gb4{color:#00c !important}.gbi .gb4{color:#dd8e27 !important}.gbf .gb4{color:#900 !important}\n",
      "</style><style>body,td,a,p,.h{font-family:arial,sans-serif}body{margin:0;overflow-y:scroll}#gog{padding:3px 8px 0}td{line-height:.8em}.gac_m td{line-height:17px}form{margin-bottom:20px}.h{color:#1967d2}em{font-weight:bold;font-style:normal}.lst{height:25px;width:496px}.gsfi,.lst{font:18px arial,sans-serif}.gsfs{font:17px arial,sans-serif}.ds{display:inline-box;display:inline-block;margin:3px 0 4px;margin-left:4px}input{font-family:inherit}body{background:#fff;color:#000}a{color:#681da8;text-decoration:none}a:hover,a:active{text-decoration:underline}.fl a{color:#1967d2}a:visited{color:#681da8}.sblc{padding-top:5px}.sblc a{display:block;margin:2px 0;margin-left:13px;font-size:11px}.lsbb{background:#f8f9fa;border:solid 1px;border-color:#dadce0 #70757a #70757a #dadce0;height:30px}.lsbb{display:block}#WqQANb a{display:inline-block;margin:0 12px}.lsb{background:url(/images/nav_logo229.png) 0 -261px repeat-x;color:#000;border:none;cursor:pointer;height:30px;margin:0;outline:0;font:15px arial,sans-serif;vertical-align:top}.lsb:active{background:#dadce0}.lst:focus{outline:none}</style><script nonce=\"05qjmDqg2S79cOSG69atHw\">(function(){window.google.erd={jsr:1,bv:2103,de:true,dpf:'KEnaa8C8VY9ktxRNi2512gBFClSnfkFLbVgCk8z8GAc'};\n",
      "var g=this||self;var k,l=(k=g.mei)!=null?k:1,n,p=(n=g.sdo)!=null?n:!0,q=0,r,t=google.erd,v=t.jsr;google.ml=function(a,b,d,m,e){e=e===void 0?2:e;b&&(r=a&&a.message);d===void 0&&(d={});d.cad=\"ple_\"+google.ple+\".aple_\"+google.aple;if(google.dl)return google.dl(a,e,d,!0),null;b=d;if(v<0){window.console&&console.error(a,b);if(v===-2)throw a;b=!1}else b=!a||!a.message||a.message===\"Error loading script\"||q>=l&&!m?!1:!0;if(!b)return null;q++;d=d||{};b=encodeURIComponent;var c=\"/gen_204?atyp=i&ei=\"+b(google.kEI);google.kEXPI&&(c+=\"&jexpid=\"+b(google.kEXPI));c+=\"&srcpg=\"+b(google.sn)+\"&jsr=\"+b(t.jsr)+\n",
      "\"&bver=\"+b(t.bv);t.dpf&&(c+=\"&dpf=\"+b(t.dpf));var f=a.lineNumber;f!==void 0&&(c+=\"&line=\"+f);var h=a.fileName;h&&(h.indexOf(\"-extension:/\")>0&&(e=3),c+=\"&script=\"+b(h),f&&h===window.location.href&&(f=document.documentElement.outerHTML.split(\"\\n\")[f],c+=\"&cad=\"+b(f?f.substring(0,300):\"No script found.\")));google.ple&&google.ple===1&&(e=2);c+=\"&jsel=\"+e;for(var u in d)c+=\"&\",c+=b(u),c+=\"=\",c+=b(d[u]);c=c+\"&emsg=\"+b(a.name+\": \"+a.message);c=c+\"&jsst=\"+b(a.stack||\"N/A\");c.length>=12288&&(c=c.substr(0,12288));a=c;m||google.log(0,\"\",a);return a};window.onerror=function(a,b,d,m,e){r!==a&&(a=e instanceof Error?e:Error(a),d===void 0||\"lineNumber\"in a||(a.lineNumber=d),b===void 0||\"fileName\"in a||(a.fileName=b),google.ml(a,!1,void 0,!1,a.name===\"SyntaxError\"||a.message.substring(0,11)===\"SyntaxError\"||a.message.indexOf(\"Script error\")!==-1?3:0));r=null;p&&q>=l&&(window.onerror=null)};})();</script></head><body bgcolor=\"#fff\"><script nonce=\"05qjmDqg2S79cOSG69atHw\">(function(){var src='/images/nav_logo229.png';var iesg=false;document.body.onload = function(){window.n && window.n();if (document.images){new Image().src=src;}\n",
      "if (!iesg){document.f&&document.f.q.focus();document.gbqf&&document.gbqf.q.focus();}\n",
      "}\n",
      "})();</script><div id=\"mngb\"><div id=gbar><nobr><b class=gb1>Search</b> <a class=gb1 href=\"https://www.google.com/imghp?hl=en&tab=wi\">Images</a> <a class=gb1 href=\"https://maps.google.com/maps?hl=en&tab=wl\">Maps</a> <a class=gb1 href=\"https://play.google.com/?hl=en&tab=w8\">Play</a> <a class=gb1 href=\"https://www.youtube.com/?tab=w1\">YouTube</a> <a class=gb1 href=\"https://news.google.com/?tab=wn\">News</a> <a class=gb1 href=\"https://mail.google.com/mail/?tab=wm\">Gmail</a> <a class=gb1 href=\"https://drive.google.com/?tab=wo\">Drive</a> <a class=gb1 style=\"text-decoration:none\" href=\"https://www.google.com/intl/en/about/products?tab=wh\"><u>More</u> &raquo;</a></nobr></div><div id=guser width=100%><nobr><span id=gbn class=gbi></span><span id=gbf class=gbf></span><span id=gbe></span><a href=\"http://www.google.com/history/optout?hl=en\" class=gb4>Web History</a> | <a  href=\"/preferences?hl=en\" class=gb4>Settings</a> | <a target=_top id=gb_70 href=\"https://accounts.google.com/ServiceLogin?hl=en&passive=true&continue=https://www.google.com/&ec=GAZAAQ\" class=gb4>Sign in</a></nobr></div><div class=gbh style=left:0></div><div class=gbh style=right:0></div></div><center><br clear=\"all\" id=\"lgpd\"><div id=\"XjhHGf\"><img alt=\"Google\" height=\"92\" src=\"/images/branding/googlelogo/1x/googlelogo_white_background_color_272x92dp.png\" style=\"padding:28px 0 14px\" width=\"272\" id=\"hplogo\"><br><br></div><form action=\"/search\" name=\"f\"><table cellpadding=\"0\" cellspacing=\"0\"><tr valign=\"top\"><td width=\"25%\">&nbsp;</td><td align=\"center\" nowrap=\"\"><input name=\"ie\" value=\"ISO-8859-1\" type=\"hidden\"><input value=\"en\" name=\"hl\" type=\"hidden\"><input name=\"source\" type=\"hidden\" value=\"hp\"><input name=\"biw\" type=\"hidden\"><input name=\"bih\" type=\"hidden\"><div class=\"ds\" style=\"height:32px;margin:4px 0\"><input class=\"lst\" style=\"margin:0;padding:5px 8px 0 6px;vertical-align:top;color:#000\" autocomplete=\"off\" value=\"\" title=\"Google Search\" maxlength=\"2048\" name=\"q\" size=\"57\"></div><br style=\"line-height:0\"><span class=\"ds\"><span class=\"lsbb\"><input class=\"lsb\" value=\"Google Search\" name=\"btnG\" type=\"submit\"></span></span><span class=\"ds\"><span class=\"lsbb\"><input class=\"lsb\" id=\"tsuid_1\" value=\"I'm Feeling Lucky\" name=\"btnI\" type=\"submit\"><script nonce=\"05qjmDqg2S79cOSG69atHw\">(function(){var id='tsuid_1';document.getElementById(id).onclick = function(){if (this.form.q.value){this.checked = 1;if (this.form.iflsig)this.form.iflsig.disabled = false;}\n",
      "else top.location='/doodles/';};})();</script><input value=\"AL9hbdgAAAAAZxsvoHM-720F2Mjfmm4EH7eTVrlXFiBv\" name=\"iflsig\" type=\"hidden\"></span></span></td><td class=\"fl sblc\" align=\"left\" nowrap=\"\" width=\"25%\"><a href=\"/advanced_search?hl=en&amp;authuser=0\">Advanced search</a></td></tr></table><input id=\"gbv\" name=\"gbv\" type=\"hidden\" value=\"1\"><script nonce=\"05qjmDqg2S79cOSG69atHw\">(function(){var a,b=\"1\";if(document&&document.getElementById)if(typeof XMLHttpRequest!=\"undefined\")b=\"2\";else if(typeof ActiveXObject!=\"undefined\"){var c,d,e=[\"MSXML2.XMLHTTP.6.0\",\"MSXML2.XMLHTTP.3.0\",\"MSXML2.XMLHTTP\",\"Microsoft.XMLHTTP\"];for(c=0;d=e[c++];)try{new ActiveXObject(d),b=\"2\"}catch(h){}}a=b;if(a==\"2\"&&location.search.indexOf(\"&gbv=2\")==-1){var f=google.gbvu,g=document.getElementById(\"gbv\");g&&(g.value=a);f&&window.setTimeout(function(){location.href=f},0)};}).call(this);</script></form><div style=\"font-size:83%;min-height:3.5em\"><br></div><span id=\"footer\"><div style=\"font-size:10pt\"><div style=\"margin:19px auto;text-align:center\" id=\"WqQANb\"><a href=\"/intl/en/ads/\">Advertising</a><a href=\"/services/\">Business Solutions</a><a href=\"/intl/en/about.html\">About Google</a></div></div><p style=\"font-size:8pt;color:#70757a\">&copy; 2024 - <a href=\"/intl/en/policies/privacy/\">Privacy</a> - <a href=\"/intl/en/policies/terms/\">Terms</a></p></span></center><script nonce=\"05qjmDqg2S79cOSG69atHw\">(function(){window.google.cdo={height:757,width:1440};(function(){var a=window.innerWidth,b=window.innerHeight;if(!a||!b){var c=window.document,d=c.compatMode==\"CSS1Compat\"?c.documentElement:c.body;a=d.clientWidth;b=d.clientHeight}\n",
      "if(a&&b&&(a!=google.cdo.width||b!=google.cdo.height)){var e=google,f=e.log,g=\"/client_204?&atyp=i&biw=\"+a+\"&bih=\"+b+\"&ei=\"+google.kEI,h=\"\",k=[],l=window.google!==void 0&&window.google.kOPI!==void 0&&window.google.kOPI!==0?window.google.kOPI:null;l!=null&&k.push([\"opi\",l.toString()]);for(var m=0;m<k.length;m++){if(m===0||m>0)h+=\"&\";h+=k[m][0]+\"=\"+k[m][1]}f.call(e,\"\",\"\",g+h)};}).call(this);})();</script>  <script nonce=\"05qjmDqg2S79cOSG69atHw\">(function(){google.xjs={basecomb:'/xjs/_/js/k\\x3dxjs.hp.en.mFizU1RXHXI.es5.O/ck\\x3dxjs.hp.u6VifKyplPg.L.X.O/am\\x3dAgAAAEAAAAAAAAAAAAAAAAAAAAAAAAAAAABAEAAAAAAAAAAAGACAGAAAAAIABAQAAAAAHAAAAIAAAAAgAgBQABAmAAAciO8IAATAIgAAvA/d\\x3d1/ed\\x3d1/dg\\x3d0/ujg\\x3d1/rs\\x3dACT90oHl8Kr5-LRWFNqu3np9KHDzQerr3A',basecss:'/xjs/_/ss/k\\x3dxjs.hp.u6VifKyplPg.L.X.O/am\\x3dAgAAAEAAAAAAAAAAAAAAAAAAAAAAAAAAAAAAEAAAAAAAAAAAAACAAAAAAAIABAQAAAAAAAAAAIAAAAAgAgBQABAm/rs\\x3dACT90oGYTfVZAq8lSDN9y3BbAMqd_oeLKQ',basejs:'/xjs/_/js/k\\x3dxjs.hp.en.mFizU1RXHXI.es5.O/am\\x3dAAAAAAAAAAAAAAAAAAAAAAAAAAAAAAAAAABAAAAAAAAAAAAAGAAAGAAAAAAAAAAAAAAAHAAAAAAAAAAAAAAAAAAAAAAciO8IAATAIgAAvA/dg\\x3d0/rs\\x3dACT90oEqC5s7t1VyfHV5JQ4ep0iZXK0jIg',excm:[]};})();</script>  <link href=\"/xjs/_/ss/k=xjs.hp.u6VifKyplPg.L.X.O/am=AgAAAEAAAAAAAAAAAAAAAAAAAAAAAAAAAAAAEAAAAAAAAAAAAACAAAAAAAIABAQAAAAAAAAAAIAAAAAgAgBQABAm/d=1/ed=1/rs=ACT90oGYTfVZAq8lSDN9y3BbAMqd_oeLKQ/m=sb_he,d\" rel=\"stylesheet\" nonce=\"05qjmDqg2S79cOSG69atHw\">      <script nonce=\"05qjmDqg2S79cOSG69atHw\">(function(){var u='/xjs/_/js/k\\x3dxjs.hp.en.mFizU1RXHXI.es5.O/am\\x3dAAAAAAAAAAAAAAAAAAAAAAAAAAAAAAAAAABAAAAAAAAAAAAAGAAAGAAAAAAAAAAAAAAAHAAAAAAAAAAAAAAAAAAAAAAciO8IAATAIgAAvA/d\\x3d1/ed\\x3d1/dg\\x3d3/rs\\x3dACT90oEqC5s7t1VyfHV5JQ4ep0iZXK0jIg/m\\x3dsb_he,d';var st=1;var amd=1000;var mmd=0;var pod=true;var f=typeof Object.defineProperties==\"function\"?Object.defineProperty:function(a,b,c){if(a==Array.prototype||a==Object.prototype)return a;a[b]=c.value;return a},g=function(a){a=[\"object\"==typeof globalThis&&globalThis,a,\"object\"==typeof window&&window,\"object\"==typeof self&&self,\"object\"==typeof global&&global];for(var b=0;b<a.length;++b){var c=a[b];if(c&&c.Math==Math)return c}throw Error(\"a\");},h=g(this),k=function(a,b){if(b)a:{var c=h;a=a.split(\".\");for(var d=0;d<a.length-1;d++){var e=a[d];if(!(e in\n",
      "c))break a;c=c[e]}a=a[a.length-1];d=c[a];b=b(d);b!=d&&b!=null&&f(c,a,{configurable:!0,writable:!0,value:b})}};k(\"globalThis\",function(a){return a||h});\n",
      "var l=this||self;function m(){var a,b,c;if(b=a=(b=window.google)==null?void 0:(c=b.ia)==null?void 0:c.r.B2Jtyd)b=a.m,b=b===1||b===5;return b&&a.cbfd!=null&&a.cbvi!=null?a:void 0};\n",
      "var n=globalThis.trustedTypes,p;function q(){var a=null;if(!n)return a;try{var b=function(c){return c};a=n.createPolicy(\"goog#html\",{createHTML:b,createScript:b,createScriptURL:b})}catch(c){}return a};var r=function(a){this.g=a};r.prototype.toString=function(){return this.g+\"\"};function t(a){if(a instanceof r)return a.g;throw Error(\"b\");};var w=/^\\s*(?!javascript:)(?:[\\w+.-]+:|[^:/?#]*(?:[/?#]|$))/i;var x=\"alternate author bookmark canonical cite help icon license modulepreload next prefetch dns-prefetch prerender preconnect preload prev search subresource\".split(\" \");function y(a,b){a.src=t(b);var c;b=a.ownerDocument&&a.ownerDocument.defaultView||window;b=b===void 0?document:b;var d;b=(d=(c=\"document\"in b?b.document:b).querySelector)==null?void 0:d.call(c,\"script[nonce]\");(c=b==null?\"\":b.nonce||b.getAttribute(\"nonce\")||\"\")&&a.setAttribute(\"nonce\",c)};var z=function(a){var b=document;a=String(a);b.contentType===\"application/xhtml+xml\"&&(a=a.toLowerCase());return b.createElement(a)};function A(a){a=a===null?\"null\":a===void 0?\"undefined\":a;p===void 0&&(p=q());var b=p;return new r(b?b.createScriptURL(a):a)};google.ps===void 0&&(google.ps=[]);function B(){var a=u,b=function(){};google.lx=google.stvsc?b:function(){C(a);google.lx=b};google.bx||google.lx()}function D(a,b){b&&y(a,A(b));var c=a.onload;a.onload=function(d){c&&c(d);google.ps=google.ps.filter(function(e){return a!==e})};google.ps.push(a);document.body.appendChild(a)}google.as=D;function C(a){google.timers&&google.timers.load&&google.tick&&google.tick(\"load\",\"xjsls\");var b=z(\"SCRIPT\");b.onerror=function(){google.ple=1};b.onload=function(){google.ple=0};google.xjsus=void 0;D(b,a);google.aple=-1;google.dp=!0}\n",
      "function E(){var a=[u];if(!google.dp){for(var b=0;b<a.length;b++){var c=z(\"LINK\"),d=c,e=A(a[b]);if(e instanceof r)d.href=t(e).toString(),d.rel=\"preload\";else{if(x.indexOf(\"preload\")===-1)throw Error(\"c`preload\");e=w.test(e)?e:void 0;e!==void 0&&(d.href=e,d.rel=\"preload\")}c.setAttribute(\"as\",\"script\");document.body.appendChild(c)}google.dp=!0}};function F(a){var b=a.getAttribute(\"jscontroller\");return(b===\"UBXHI\"||b===\"R3fhkb\"||b===\"TSZEqd\")&&a.hasAttribute(\"data-src\")}function G(){for(var a=document.getElementsByTagName(\"img\"),b=0,c=a.length;b<c;b++){var d=a[b];if(d.hasAttribute(\"data-lzy_\")&&Number(d.getAttribute(\"data-atf\"))&1&&!F(d))return!0}return!1}for(var H=document.getElementsByTagName(\"img\"),I=0,J=H.length;I<J;++I){var K=H[I];Number(K.getAttribute(\"data-atf\"))&1&&F(K)&&(K.src=K.getAttribute(\"data-src\"))};var L,M,N,O,P,Q;function R(){google.xjsu=u;l._F_jsUrl=u;P=function(){B()};L=!1;M=(st===1||st===3)&&!!google.caft&&!G();N=m();O=(st===2||st===3)&&!!N&&!G();Q=pod}function S(){L||M||O||(P(),L=!0)}setTimeout(function(){google&&google.tick&&google.timers&&google.timers.load&&google.tick(\"load\",\"xjspls\");R();if(M||O){if(M){var a=function(){M=!1;S()};google.caft(a);window.setTimeout(a,amd)}O&&(a=function(){O=!1;S()},N.cbvi.push(a),window.setTimeout(a,mmd));Q&&(L||E())}else P()},0);})();window._ = window._ || {};window._DumpException = _._DumpException = function(e){throw e;};window._s = window._s || {};_s._DumpException = _._DumpException;window._qs = window._qs || {};_qs._DumpException = _._DumpException;(function(){var t=[2,256,0,0,0,0,0,1042,67108864,6553605,16877664,167936,1028,7340160,134217728,134217728,273678338,38992,251167168,813760514,1006632994,2];window._F_toggles = window._xjs_toggles = t;})();window._F_installCss = window._F_installCss || function(css){};(function(){google.jl={bfl:0,dw:false,ine:false,ubm:false,uwp:true,vs:false};})();(function(){var pmc='{\\x22d\\x22:{},\\x22sb_he\\x22:{\\x22agen\\x22:false,\\x22cgen\\x22:false,\\x22client\\x22:\\x22heirloom-hp\\x22,\\x22dh\\x22:true,\\x22ds\\x22:\\x22\\x22,\\x22fl\\x22:true,\\x22host\\x22:\\x22google.com\\x22,\\x22jsonp\\x22:true,\\x22msgs\\x22:{\\x22cibl\\x22:\\x22Clear Search\\x22,\\x22dym\\x22:\\x22Did you mean:\\x22,\\x22lcky\\x22:\\x22I\\\\u0026#39;m Feeling Lucky\\x22,\\x22lml\\x22:\\x22Learn more\\x22,\\x22psrc\\x22:\\x22This search was removed from your \\\\u003Ca href\\x3d\\\\\\x22/history\\\\\\x22\\\\u003EWeb History\\\\u003C/a\\\\u003E\\x22,\\x22psrl\\x22:\\x22Remove\\x22,\\x22sbit\\x22:\\x22Search by image\\x22,\\x22srch\\x22:\\x22Google Search\\x22},\\x22ovr\\x22:{},\\x22pq\\x22:\\x22\\x22,\\x22rfs\\x22:[],\\x22stok\\x22:\\x224da-EvFwz6w41uAk2T1Zzka2zk8\\x22}}';google.pmc=JSON.parse(pmc);})();(function(){var b=function(a){var c=0;return function(){return c<a.length?{done:!1,value:a[c++]}:{done:!0}}};\n",
      "var e=this||self;var g,h;a:{for(var k=[\"CLOSURE_FLAGS\"],l=e,n=0;n<k.length;n++)if(l=l[k[n]],l==null){h=null;break a}h=l}var p=h&&h[610401301];g=p!=null?p:!1;var q,r=e.navigator;q=r?r.userAgentData||null:null;function t(a){return g?q?q.brands.some(function(c){return(c=c.brand)&&c.indexOf(a)!=-1}):!1:!1}function u(a){var c;a:{if(c=e.navigator)if(c=c.userAgent)break a;c=\"\"}return c.indexOf(a)!=-1};function v(){return g?!!q&&q.brands.length>0:!1}function w(){return u(\"Safari\")&&!(x()||(v()?0:u(\"Coast\"))||(v()?0:u(\"Opera\"))||(v()?0:u(\"Edge\"))||(v()?t(\"Microsoft Edge\"):u(\"Edg/\"))||(v()?t(\"Opera\"):u(\"OPR\"))||u(\"Firefox\")||u(\"FxiOS\")||u(\"Silk\")||u(\"Android\"))}function x(){return v()?t(\"Chromium\"):(u(\"Chrome\")||u(\"CriOS\"))&&!(v()?0:u(\"Edge\"))||u(\"Silk\")}function y(){return u(\"Android\")&&!(x()||u(\"Firefox\")||u(\"FxiOS\")||(v()?0:u(\"Opera\"))||u(\"Silk\"))};var z=v()?!1:u(\"Trident\")||u(\"MSIE\");y();x();w();var A=!z&&!w(),D=function(a){if(/-[a-z]/.test(\"ved\"))return null;if(A&&a.dataset){if(y()&&!(\"ved\"in a.dataset))return null;a=a.dataset.ved;return a===void 0?null:a}return a.getAttribute(\"data-\"+\"ved\".replace(/([A-Z])/g,\"-$1\").toLowerCase())};var E=[],F=null;function G(a){a=a.target;var c=performance.now(),f=[],H=f.concat,d=E;if(!(d instanceof Array)){var m=typeof Symbol!=\"undefined\"&&Symbol.iterator&&d[Symbol.iterator];if(m)d=m.call(d);else if(typeof d.length==\"number\")d={next:b(d)};else throw Error(\"b`\"+String(d));for(var B=[];!(m=d.next()).done;)B.push(m.value);d=B}E=H.call(f,d,[c]);if(a&&a instanceof HTMLElement)if(a===F){if(c=E.length>=4)c=(E[E.length-1]-E[E.length-4])/1E3<5;if(c){c=google.getEI(a);a.hasAttribute(\"data-ved\")?f=a?D(a)||\"\":\"\":f=(f=\n",
      "a.closest(\"[data-ved]\"))?D(f)||\"\":\"\";f=f||\"\";if(a.hasAttribute(\"jsname\"))a=a.getAttribute(\"jsname\");else{var C;a=(C=a.closest(\"[jsname]\"))==null?void 0:C.getAttribute(\"jsname\")}google.log(\"rcm\",\"&ei=\"+c+\"&tgtved=\"+f+\"&jsname=\"+(a||\"\"))}}else F=a,E=[c]}window.document.addEventListener(\"DOMContentLoaded\",function(){document.body.addEventListener(\"click\",G)});}).call(this);</script></body></html>>]\n",
      "--------------------------------------------------------------------------------\n",
      "\n",
      "\n"
     ]
    }
   ],
   "source": [
    "for taskname in executor.execution_graph_results.unwrap():\n",
    "    print(f\"Name of the task: {taskname}\")\n",
    "    print(f\"List of results of executions: {executor.execution_graph_results.unwrap()[taskname]}\")\n",
    "    print(\"-\" * 80 + \"\\n\\n\")  # let's visually separate the results"
   ]
  },
  {
   "cell_type": "raw",
   "id": "a2cf9825-62ad-4f94-a10b-fb6a5c4ab410",
   "metadata": {},
   "source": []
  }
 ],
 "metadata": {
  "kernelspec": {
   "display_name": "Python 3 (ipykernel)",
   "language": "python",
   "name": "python3"
  },
  "language_info": {
   "codemirror_mode": {
    "name": "ipython",
    "version": 3
   },
   "file_extension": ".py",
   "mimetype": "text/x-python",
   "name": "python",
   "nbconvert_exporter": "python",
   "pygments_lexer": "ipython3",
   "version": "3.10.12"
  }
 },
 "nbformat": 4,
 "nbformat_minor": 5
}
